{
 "cells": [
  {
   "cell_type": "code",
   "execution_count": 25,
   "metadata": {},
   "outputs": [],
   "source": [
    "import pandas as pd\n",
    "\n",
    "with open(\"fpl-data-stats.csv\") as data:\n",
    "    data = pd.read_csv(data)\n",
    "    df = pd.DataFrame(data)"
   ]
  },
  {
   "cell_type": "code",
   "execution_count": 26,
   "metadata": {},
   "outputs": [
    {
     "name": "stdout",
     "output_type": "stream",
     "text": [
      "Index(['id', 'element_type', 'web_name', 'team_name', 'opponent_team_name',\n",
      "       'was_home', 'now_cost', 'selected_by_percent', 'gameweek', 'minutes',\n",
      "       'shots', 'SoT', 'SiB', 'xG', 'npxG', 'G', 'npG', 'key_passes', 'xA',\n",
      "       'A', 'xGC', 'GC', 'xCS', 'CS', 'xGI', 'npxGI', 'xP', 'total_points',\n",
      "       'PvsxP', 'pos_touches', 'Att Pen', 'carries_final_third',\n",
      "       'carries_penalty_area'],\n",
      "      dtype='object')\n"
     ]
    }
   ],
   "source": [
    "print(df.columns)"
   ]
  },
  {
   "cell_type": "code",
   "execution_count": 32,
   "metadata": {},
   "outputs": [],
   "source": [
    "gk_df = df[df['element_type'] == 1]\n",
    "gk_web_name = gk_df.drop_duplicates(subset=['web_name'])\n",
    "gk_web_name = gk_web_name['web_name']\n",
    "gk_web_name = gk_web_name.to_list()"
   ]
  },
  {
   "cell_type": "code",
   "execution_count": 38,
   "metadata": {},
   "outputs": [
    {
     "name": "stdout",
     "output_type": "stream",
     "text": [
      "           minutes  shots  SoT  SiB   xG  npxG    G  npG  key_passes   xA  \\\n",
      "web_name                                                                    \n",
      "A.Becker      1890    0.0  0.0  0.0  0.0   0.0  0.0  0.0         0.0  0.0   \n",
      "A.Davies         0    0.0  0.0  0.0  0.0   0.0  0.0  0.0         0.0  0.0   \n",
      "Adrián           0    0.0  0.0  0.0  0.0   0.0  0.0  0.0         0.0  0.0   \n",
      "Altay            0    0.0  0.0  0.0  0.0   0.0  0.0  0.0         0.0  0.0   \n",
      "Amissah          0    0.0  0.0  0.0  0.0   0.0  0.0  0.0         0.0  0.0   \n",
      "...            ...    ...  ...  ...  ...   ...  ...  ...         ...  ...   \n",
      "Whiteman         0    0.0  0.0  0.0  0.0   0.0  0.0  0.0         0.0  0.0   \n",
      "Whitworth        0    0.0  0.0  0.0  0.0   0.0  0.0  0.0         0.0  0.0   \n",
      "Wright           0    0.0  0.0  0.0  0.0   0.0  0.0  0.0         0.0  0.0   \n",
      "Zych             0    0.0  0.0  0.0  0.0   0.0  0.0  0.0         0.0  0.0   \n",
      "Šarkić           0    0.0  0.0  0.0  0.0   0.0  0.0  0.0         0.0  0.0   \n",
      "\n",
      "           ...   CS  xGI  npxGI      xP  total_points   PvsxP  pos_touches  \\\n",
      "web_name   ...                                                               \n",
      "A.Becker   ...  8.0  0.0    0.0  75.009            87  11.991        937.0   \n",
      "A.Davies   ...  1.0  0.0    0.0   0.000             0   0.000          0.0   \n",
      "Adrián     ...  8.0  0.0    0.0   0.000             0   0.000          0.0   \n",
      "Altay      ...  6.0  0.0    0.0   0.000             0   0.000          0.0   \n",
      "Amissah    ...  1.0  0.0    0.0   0.000             0   0.000          0.0   \n",
      "...        ...  ...  ...    ...     ...           ...     ...          ...   \n",
      "Whiteman   ...  5.0  0.0    0.0   0.000             0   0.000          0.0   \n",
      "Whitworth  ...  5.0  0.0    0.0   0.000             0   0.000          0.0   \n",
      "Wright     ...  2.0  0.0    0.0   0.000             0   0.000          0.0   \n",
      "Zych       ...  5.0  0.0    0.0   0.000             0   0.000          0.0   \n",
      "Šarkić     ...  4.0  0.0    0.0   0.000             0   0.000          0.0   \n",
      "\n",
      "           Att Pen  carries_final_third  carries_penalty_area  \n",
      "web_name                                                       \n",
      "A.Becker       0.0                  0.0                   0.0  \n",
      "A.Davies       0.0                  0.0                   0.0  \n",
      "Adrián         0.0                  0.0                   0.0  \n",
      "Altay          0.0                  0.0                   0.0  \n",
      "Amissah        0.0                  0.0                   0.0  \n",
      "...            ...                  ...                   ...  \n",
      "Whiteman       0.0                  0.0                   0.0  \n",
      "Whitworth      0.0                  0.0                   0.0  \n",
      "Wright         0.0                  0.0                   0.0  \n",
      "Zych           0.0                  0.0                   0.0  \n",
      "Šarkić         0.0                  0.0                   0.0  \n",
      "\n",
      "[93 rows x 24 columns]\n"
     ]
    }
   ],
   "source": [
    "gk_row = gk_df.duplicated(subset=['web_name'], keep=False)\n",
    "gk_row = gk_df.drop(columns=['id', 'element_type', 'team_name', 'opponent_team_name', 'was_home', 'now_cost', 'selected_by_percent', 'gameweek'])\n",
    "gk_row = gk_row.groupby('web_name').sum()\n",
    "print(gk_row)"
   ]
  }
 ],
 "metadata": {
  "kernelspec": {
   "display_name": ".venv",
   "language": "python",
   "name": "python3"
  },
  "language_info": {
   "codemirror_mode": {
    "name": "ipython",
    "version": 3
   },
   "file_extension": ".py",
   "mimetype": "text/x-python",
   "name": "python",
   "nbconvert_exporter": "python",
   "pygments_lexer": "ipython3",
   "version": "3.10.4"
  }
 },
 "nbformat": 4,
 "nbformat_minor": 2
}
