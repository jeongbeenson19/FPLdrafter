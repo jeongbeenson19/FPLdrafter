{
 "cells": [
  {
   "cell_type": "code",
   "execution_count": 4,
   "metadata": {},
   "outputs": [
    {
     "name": "stdout",
     "output_type": "stream",
     "text": [
      "           plyer  cost total point  point per cost\n",
      "0          Salah  13.0         156       12.000000\n",
      "1            Son   9.6         140       14.583333\n",
      "2           Saka   9.0         129       14.333333\n",
      "3          Foden   8.0         127       15.875000\n",
      "4          Bowen   7.8         116       14.871795\n",
      "5         Palmer   5.9         112       18.983051\n",
      "6         Gordon   6.1         111       18.196721\n",
      "7          Gross   6.4         108       16.875000\n",
      "8    Richarlison   7.2         105       14.583333\n",
      "9   Douglas Luiz   5.5         103       18.727273\n",
      "10   Ward-Prowse   6.0         103       17.166667\n",
      "11      Hee Chan   5.5         100       18.181818\n",
      "12      Diogo J.   8.2          93       11.341463\n",
      "13      Bernardo   6.4          92       14.375000\n",
      "14         Diaby   6.4          91       14.218750\n",
      "15      Sterling   7.0          91       13.000000\n",
      "16      Ødegaard   8.4          90       10.714286\n",
      "17        McGinn   5.5          90       16.363636\n",
      "18        Bailey   5.6          88       15.714286\n",
      "19        Mbeumo   6.8          87       12.794118\n",
      "20        Elanga   5.1          86       16.862745\n",
      "21     Luis Díaz   7.4          85       11.486486\n",
      "22    Martinelli   7.7          84       10.909091\n",
      "23    Kulusevski   6.9          83       12.028986\n",
      "24         Kudus   6.8          83       12.205882\n",
      "25    Szoboszlai   7.1          82       11.549296\n",
      "26       Rodrigo   5.6          82       14.642857\n",
      "27   B.Fernandes   8.2          81        9.878049\n",
      "28    A.Doucoure   5.5          79       14.363636\n",
      "29          Rice   5.4          78       14.444444\n"
     ]
    }
   ],
   "source": [
    "from main import df\n",
    "print(df)"
   ]
  }
 ],
 "metadata": {
  "kernelspec": {
   "display_name": ".venv",
   "language": "python",
   "name": "python3"
  },
  "language_info": {
   "codemirror_mode": {
    "name": "ipython",
    "version": 3
   },
   "file_extension": ".py",
   "mimetype": "text/x-python",
   "name": "python",
   "nbconvert_exporter": "python",
   "pygments_lexer": "ipython3",
   "version": "3.10.4"
  }
 },
 "nbformat": 4,
 "nbformat_minor": 2
}
